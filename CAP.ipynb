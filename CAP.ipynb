{
  "nbformat": 4,
  "nbformat_minor": 0,
  "metadata": {
    "colab": {
      "name": "CAP.ipynb",
      "provenance": [],
      "collapsed_sections": [],
      "include_colab_link": true
    },
    "kernelspec": {
      "name": "python3",
      "display_name": "Python 3"
    }
  },
  "cells": [
    {
      "cell_type": "markdown",
      "metadata": {
        "id": "view-in-github",
        "colab_type": "text"
      },
      "source": [
        "<a href=\"https://colab.research.google.com/github/blueboxai18/AI2020/blob/master/CAP.ipynb\" target=\"_parent\"><img src=\"https://colab.research.google.com/assets/colab-badge.svg\" alt=\"Open In Colab\"/></a>"
      ]
    },
    {
      "cell_type": "markdown",
      "metadata": {
        "id": "a2mR-tWDV6zY",
        "colab_type": "text"
      },
      "source": [
        "# Predicting whether a student is given admission or not based on SAT and GPA\n",
        "\n",
        "**<h4> Independent Variables</h4>**\n",
        "- SAT Score\n",
        "- GPA\n",
        "\n",
        "**<h4> Labels </h4>**\n",
        "\n",
        "* 1: Given admission\n",
        "* 0: Not given admission\n",
        "\n",
        "Make some changes to input layer and you have train with dataset\n",
        "\n"
      ]
    },
    {
      "cell_type": "code",
      "metadata": {
        "id": "pnO4pObgV2cY",
        "colab_type": "code",
        "colab": {}
      },
      "source": [
        ""
      ],
      "execution_count": 0,
      "outputs": []
    }
  ]
}